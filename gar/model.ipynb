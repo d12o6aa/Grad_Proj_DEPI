{
 "cells": [
  {
   "cell_type": "code",
   "execution_count": 2,
   "metadata": {},
   "outputs": [
    {
     "name": "stderr",
     "output_type": "stream",
     "text": [
      "2025-05-07 04:08:35.792676: I tensorflow/core/util/port.cc:153] oneDNN custom operations are on. You may see slightly different numerical results due to floating-point round-off errors from different computation orders. To turn them off, set the environment variable `TF_ENABLE_ONEDNN_OPTS=0`.\n",
      "2025-05-07 04:08:35.810611: E external/local_xla/xla/stream_executor/cuda/cuda_fft.cc:467] Unable to register cuFFT factory: Attempting to register factory for plugin cuFFT when one has already been registered\n",
      "WARNING: All log messages before absl::InitializeLog() is called are written to STDERR\n",
      "E0000 00:00:1746580115.830938   98877 cuda_dnn.cc:8579] Unable to register cuDNN factory: Attempting to register factory for plugin cuDNN when one has already been registered\n",
      "E0000 00:00:1746580115.836939   98877 cuda_blas.cc:1407] Unable to register cuBLAS factory: Attempting to register factory for plugin cuBLAS when one has already been registered\n",
      "W0000 00:00:1746580115.852349   98877 computation_placer.cc:177] computation placer already registered. Please check linkage and avoid linking the same target more than once.\n",
      "W0000 00:00:1746580115.852376   98877 computation_placer.cc:177] computation placer already registered. Please check linkage and avoid linking the same target more than once.\n",
      "W0000 00:00:1746580115.852379   98877 computation_placer.cc:177] computation placer already registered. Please check linkage and avoid linking the same target more than once.\n",
      "W0000 00:00:1746580115.852381   98877 computation_placer.cc:177] computation placer already registered. Please check linkage and avoid linking the same target more than once.\n",
      "2025-05-07 04:08:35.857881: I tensorflow/core/platform/cpu_feature_guard.cc:210] This TensorFlow binary is optimized to use available CPU instructions in performance-critical operations.\n",
      "To enable the following instructions: AVX2 AVX_VNNI FMA, in other operations, rebuild TensorFlow with the appropriate compiler flags.\n"
     ]
    }
   ],
   "source": [
    "from deepface import DeepFace"
   ]
  },
  {
   "cell_type": "code",
   "execution_count": 6,
   "metadata": {},
   "outputs": [
    {
     "data": {
      "text/plain": [
       "{'verified': False,\n",
       " 'distance': 0.9681972725294392,\n",
       " 'threshold': 0.68,\n",
       " 'model': 'VGG-Face',\n",
       " 'detector_backend': 'opencv',\n",
       " 'similarity_metric': 'cosine',\n",
       " 'facial_areas': {'img1': {'x': 170,\n",
       "   'y': 88,\n",
       "   'w': 282,\n",
       "   'h': 282,\n",
       "   'left_eye': (353, 191),\n",
       "   'right_eye': (256, 198)},\n",
       "  'img2': {'x': 121,\n",
       "   'y': 76,\n",
       "   'w': 219,\n",
       "   'h': 219,\n",
       "   'left_eye': (264, 161),\n",
       "   'right_eye': (191, 161)}},\n",
       " 'time': 1.57}"
      ]
     },
     "execution_count": 6,
     "metadata": {},
     "output_type": "execute_result"
    }
   ],
   "source": [
    "result = DeepFace.verify(\n",
    "  img1_path = \"/home/doaa/gradeProject/Original Images/Original Images/Akshay Kumar/Akshay Kumar_1.jpg\",\n",
    "  img2_path = \"/home/doaa/gradeProject/Original Images/Original Images/Andy Samberg/Andy Samberg_33.jpg\",\n",
    ")\n",
    "\n",
    "result"
   ]
  },
  {
   "cell_type": "code",
   "execution_count": 7,
   "metadata": {},
   "outputs": [
    {
     "name": "stdout",
     "output_type": "stream",
     "text": [
      "25-05-07 03:54:55 - Found 92 newly added image(s), 0 removed image(s), 0 replaced image(s).\n"
     ]
    },
    {
     "name": "stderr",
     "output_type": "stream",
     "text": [
      "Finding representations:   0%|          | 0/92 [00:00<?, ?it/s]"
     ]
    },
    {
     "name": "stderr",
     "output_type": "stream",
     "text": [
      "Finding representations:   9%|▊         | 8/92 [00:12<02:28,  1.77s/it]"
     ]
    },
    {
     "name": "stdout",
     "output_type": "stream",
     "text": [
      "25-05-07 03:55:08 - 🔴 Exception while extracting faces from /home/doaa/gradeProject/Original Images/Original Images/Andy Samberg/Andy Samberg_43.jpg: Face could not be detected in /home/doaa/gradeProject/Original Images/Original Images/Andy Samberg/Andy Samberg_43.jpg.Please confirm that the picture is a face photo or consider to set enforce_detection param to False.\n"
     ]
    },
    {
     "name": "stderr",
     "output_type": "stream",
     "text": [
      "Finding representations:  88%|████████▊ | 81/92 [01:26<00:10,  1.04it/s]"
     ]
    },
    {
     "name": "stdout",
     "output_type": "stream",
     "text": [
      "25-05-07 03:56:21 - 🔴 Exception while extracting faces from /home/doaa/gradeProject/Original Images/Original Images/Andy Samberg/Andy Samberg_23.jpg: Face could not be detected in /home/doaa/gradeProject/Original Images/Original Images/Andy Samberg/Andy Samberg_23.jpg.Please confirm that the picture is a face photo or consider to set enforce_detection param to False.\n"
     ]
    },
    {
     "name": "stderr",
     "output_type": "stream",
     "text": [
      "Finding representations:  92%|█████████▏| 85/92 [01:32<00:08,  1.17s/it]"
     ]
    },
    {
     "name": "stdout",
     "output_type": "stream",
     "text": [
      "25-05-07 03:56:27 - 🔴 Exception while extracting faces from /home/doaa/gradeProject/Original Images/Original Images/Andy Samberg/Andy Samberg_53.jpg: Face could not be detected in /home/doaa/gradeProject/Original Images/Original Images/Andy Samberg/Andy Samberg_53.jpg.Please confirm that the picture is a face photo or consider to set enforce_detection param to False.\n"
     ]
    },
    {
     "name": "stderr",
     "output_type": "stream",
     "text": [
      "Finding representations: 100%|██████████| 92/92 [01:36<00:00,  1.05s/it]\n"
     ]
    },
    {
     "name": "stdout",
     "output_type": "stream",
     "text": [
      "25-05-07 03:56:32 - There are now 101 representations in ds_model_vggface_detector_opencv_aligned_normalization_base_expand_0.pkl\n",
      "25-05-07 03:56:32 - Searching /home/doaa/gradeProject/Original Images/Original Images/Andy Samberg/Andy Samberg_33.jpg in 101 length datastore\n",
      "25-05-07 03:56:32 - find function duration 97.37005877494812 seconds\n"
     ]
    },
    {
     "data": {
      "text/plain": [
       "[                                             identity  \\\n",
       " 0   /home/doaa/gradeProject/Original Images/Origin...   \n",
       " 1   /home/doaa/gradeProject/Original Images/Origin...   \n",
       " 2   /home/doaa/gradeProject/Original Images/Origin...   \n",
       " 3   /home/doaa/gradeProject/Original Images/Origin...   \n",
       " 4   /home/doaa/gradeProject/Original Images/Origin...   \n",
       " ..                                                ...   \n",
       " 64  /home/doaa/gradeProject/Original Images/Origin...   \n",
       " 65  /home/doaa/gradeProject/Original Images/Origin...   \n",
       " 66  /home/doaa/gradeProject/Original Images/Origin...   \n",
       " 67  /home/doaa/gradeProject/Original Images/Origin...   \n",
       " 68  /home/doaa/gradeProject/Original Images/Origin...   \n",
       " \n",
       "                                         hash  target_x  target_y  target_w  \\\n",
       " 0   4850de0ff74e07e8c2be8dfa7fbf4a01f783418f       121        76       219   \n",
       " 1   144ddcee0556bae361abe1601ff847443bbfcd03       288        40        86   \n",
       " 2   8e86ec1616cda71ef21655fed13024047f68b2fd       223       134       410   \n",
       " 3   7f87a5e3e3329f1c2f8957d6ca2ead0db04db453        96        92       266   \n",
       " 4   4f92eb2def29ea320127e7627598b0c5f7297fdb       676       242       543   \n",
       " ..                                       ...       ...       ...       ...   \n",
       " 64  f0170c9adeb8d9d01fc2a73793e9326e355ed3f7       887       317       539   \n",
       " 65  753002aa12cd63d6450c37d08e965d2df3951c11       250        45       136   \n",
       " 66  a8eb218f2dcc11c55252efc736de95ee725b5261       222       202       327   \n",
       " 67  5d75e923d29870cf24944ccb7ebff2368d31320f       529        88       162   \n",
       " 68  4623c0b64ec1357610264c61009d146c8d9fb493        80        92       270   \n",
       " \n",
       "     target_h  source_x  source_y  source_w  source_h  threshold  distance  \n",
       " 0        219       121        76       219       219       0.68  0.000000  \n",
       " 1         86       121        76       219       219       0.68  0.224103  \n",
       " 2        410       121        76       219       219       0.68  0.229265  \n",
       " 3        266       121        76       219       219       0.68  0.241458  \n",
       " 4        543       121        76       219       219       0.68  0.248941  \n",
       " ..       ...       ...       ...       ...       ...        ...       ...  \n",
       " 64       539       121        76       219       219       0.68  0.642758  \n",
       " 65       136       121        76       219       219       0.68  0.644987  \n",
       " 66       327       121        76       219       219       0.68  0.656760  \n",
       " 67       162       121        76       219       219       0.68  0.667066  \n",
       " 68       270       121        76       219       219       0.68  0.670814  \n",
       " \n",
       " [69 rows x 12 columns]]"
      ]
     },
     "execution_count": 7,
     "metadata": {},
     "output_type": "execute_result"
    }
   ],
   "source": [
    "dfs = DeepFace.find(\n",
    "  img_path = \"/home/doaa/gradeProject/Original Images/Original Images/Andy Samberg/Andy Samberg_33.jpg\",\n",
    "  db_path = \"/home/doaa/gradeProject/Original Images/Original Images/Andy Samberg\",\n",
    ")\n",
    "dfs"
   ]
  },
  {
   "cell_type": "code",
   "execution_count": 4,
   "metadata": {},
   "outputs": [
    {
     "data": {
      "text/plain": [
       "[{'face': array([[[0.01960784, 0.        , 0.02352941],\n",
       "          [0.01568627, 0.00392157, 0.03137255],\n",
       "          [0.01960784, 0.01176471, 0.03137255],\n",
       "          ...,\n",
       "          [0.59215686, 0.55294118, 0.41568627],\n",
       "          [0.72156863, 0.68235294, 0.54117647],\n",
       "          [0.81176471, 0.77647059, 0.60784314]],\n",
       "  \n",
       "         [[0.02352941, 0.        , 0.03921569],\n",
       "          [0.01568627, 0.00392157, 0.03921569],\n",
       "          [0.01960784, 0.00784314, 0.04313725],\n",
       "          ...,\n",
       "          [0.65882353, 0.61960784, 0.48235294],\n",
       "          [0.76470588, 0.72941176, 0.57647059],\n",
       "          [0.81960784, 0.78823529, 0.60784314]],\n",
       "  \n",
       "         [[0.01568627, 0.        , 0.05490196],\n",
       "          [0.01176471, 0.        , 0.05098039],\n",
       "          [0.00392157, 0.        , 0.02745098],\n",
       "          ...,\n",
       "          [0.7254902 , 0.68627451, 0.54509804],\n",
       "          [0.80392157, 0.76862745, 0.60784314],\n",
       "          [0.82352941, 0.79215686, 0.61176471]],\n",
       "  \n",
       "         ...,\n",
       "  \n",
       "         [[0.17647059, 0.19215686, 0.29019608],\n",
       "          [0.02352941, 0.04705882, 0.14901961],\n",
       "          [0.        , 0.00784314, 0.10980392],\n",
       "          ...,\n",
       "          [0.49019608, 0.4627451 , 0.49411765],\n",
       "          [0.49019608, 0.4627451 , 0.49411765],\n",
       "          [0.48627451, 0.45882353, 0.49019608]],\n",
       "  \n",
       "         [[0.05882353, 0.08235294, 0.18431373],\n",
       "          [0.        , 0.        , 0.09803922],\n",
       "          [0.        , 0.02352941, 0.12941176],\n",
       "          ...,\n",
       "          [0.49411765, 0.46666667, 0.49803922],\n",
       "          [0.48235294, 0.45490196, 0.48627451],\n",
       "          [0.4745098 , 0.44705882, 0.47843137]],\n",
       "  \n",
       "         [[0.        , 0.01176471, 0.1254902 ],\n",
       "          [0.        , 0.02745098, 0.1372549 ],\n",
       "          [0.03529412, 0.07058824, 0.18431373],\n",
       "          ...,\n",
       "          [0.49411765, 0.46666667, 0.49803922],\n",
       "          [0.4745098 , 0.44705882, 0.47843137],\n",
       "          [0.4627451 , 0.43529412, 0.46666667]]]),\n",
       "  'facial_area': {'x': 121,\n",
       "   'y': 76,\n",
       "   'w': 219,\n",
       "   'h': 219,\n",
       "   'left_eye': (264, 161),\n",
       "   'right_eye': (191, 161)},\n",
       "  'confidence': np.float64(0.91),\n",
       "  'is_real': True,\n",
       "  'antispoof_score': np.float64(0.9996537566184998)}]"
      ]
     },
     "execution_count": 4,
     "metadata": {},
     "output_type": "execute_result"
    }
   ],
   "source": [
    "face_objs = DeepFace.extract_faces(\n",
    "  img_path=\"/home/doaa/gradeProject/Original Images/Original Images/Andy Samberg/Andy Samberg_33.jpg\",\n",
    "  anti_spoofing=True\n",
    ")\n",
    "assert all(face_obj[\"is_real\"] is True for face_obj in face_objs)\n",
    "face_objs\n"
   ]
  },
  {
   "cell_type": "code",
   "execution_count": null,
   "metadata": {},
   "outputs": [
    {
     "name": "stdout",
     "output_type": "stream",
     "text": [
      "25-05-07 04:04:52 - VGG-Face is built\n",
      "25-05-07 04:05:00 - Downloading MiniFASNetV2 weights to /home/doaa/.deepface/weights/2.7_80x80_MiniFASNetV2.pth\n"
     ]
    },
    {
     "name": "stderr",
     "output_type": "stream",
     "text": [
      "Downloading...\n",
      "From: https://github.com/minivision-ai/Silent-Face-Anti-Spoofing/raw/master/resources/anti_spoof_models/2.7_80x80_MiniFASNetV2.pth\n",
      "To: /home/doaa/.deepface/weights/2.7_80x80_MiniFASNetV2.pth\n",
      "100%|██████████| 1.85M/1.85M [00:00<00:00, 3.37MB/s]\n"
     ]
    },
    {
     "name": "stdout",
     "output_type": "stream",
     "text": [
      "25-05-07 04:05:02 - Downloading MiniFASNetV2 weights to /home/doaa/.deepface/weights/4_0_0_80x80_MiniFASNetV1SE.pth\n"
     ]
    },
    {
     "name": "stderr",
     "output_type": "stream",
     "text": [
      "Downloading...\n",
      "From: https://github.com/minivision-ai/Silent-Face-Anti-Spoofing/raw/master/resources/anti_spoof_models/4_0_0_80x80_MiniFASNetV1SE.pth\n",
      "To: /home/doaa/.deepface/weights/4_0_0_80x80_MiniFASNetV1SE.pth\n",
      "100%|██████████| 1.86M/1.86M [00:00<00:00, 2.79MB/s]\n"
     ]
    },
    {
     "name": "stdout",
     "output_type": "stream",
     "text": [
      "25-05-07 04:05:06 - Hello, /home/doaa/Downloads/Doaa/photo_2024-09-27_23-00-08.jpg\n",
      "25-05-07 04:05:07 - freezed\n",
      "25-05-07 04:05:12 - freeze released\n",
      "25-05-07 04:05:13 - Hello, /home/doaa/Downloads/Doaa/photo_2024-09-27_23-00-08.jpg\n",
      "25-05-07 04:05:14 - freezed\n",
      "25-05-07 04:05:19 - freeze released\n",
      "25-05-07 04:05:20 - Hello, /home/doaa/Downloads/Doaa/photo_2024-09-27_23-00-08.jpg\n",
      "25-05-07 04:05:21 - freezed\n",
      "25-05-07 04:05:26 - freeze released\n",
      "25-05-07 04:05:27 - Hello, /home/doaa/Downloads/Doaa/photo_2024-09-27_23-00-08.jpg\n",
      "25-05-07 04:05:28 - freezed\n",
      "25-05-07 04:05:33 - freeze released\n",
      "25-05-07 04:05:35 - Hello, /home/doaa/Downloads/Doaa/photo_2024-09-27_23-00-08.jpg\n",
      "25-05-07 04:05:35 - freezed\n",
      "25-05-07 04:05:40 - freeze released\n",
      "25-05-07 04:05:42 - freezed\n",
      "25-05-07 04:05:47 - freeze released\n",
      "25-05-07 04:05:49 - freezed\n",
      "25-05-07 04:05:54 - freeze released\n",
      "25-05-07 04:05:56 - freezed\n",
      "25-05-07 04:06:01 - freeze released\n",
      "25-05-07 04:06:03 - Hello, /home/doaa/Downloads/Doaa/photo_2024-09-08_22-39-11.jpg\n",
      "25-05-07 04:06:04 - freezed\n",
      "25-05-07 04:06:09 - freeze released\n",
      "25-05-07 04:06:17 - Hello, /home/doaa/Downloads/Doaa/photo_2024-09-27_23-00-08.jpg\n",
      "25-05-07 04:06:17 - freezed\n",
      "25-05-07 04:06:22 - freeze released\n",
      "25-05-07 04:06:30 - Hello, /home/doaa/Downloads/Doaa/photo_2024-09-27_23-00-08.jpg\n",
      "25-05-07 04:06:30 - freezed\n",
      "25-05-07 04:06:35 - freeze released\n",
      "25-05-07 04:06:37 - Hello, /home/doaa/Downloads/Doaa/photo_2024-09-27_23-00-08.jpg\n",
      "25-05-07 04:06:37 - freezed\n",
      "25-05-07 04:06:42 - freeze released\n",
      "25-05-07 04:06:44 - freezed\n",
      "25-05-07 04:06:49 - freeze released\n",
      "25-05-07 04:06:55 - freezed\n",
      "25-05-07 04:07:00 - freeze released\n"
     ]
    }
   ],
   "source": [
    "DeepFace.stream(\n",
    "  db_path=\"/home/doaa/Downloads/Doaa\",\n",
    "  model_name=\"VGG-Face\",        # Optional\n",
    "  detector_backend=\"opencv\",    # Optional\n",
    "  distance_metric=\"cosine\",     # Optional\n",
    "  enable_face_analysis=False,   # Set to True to get age/gender/emotion\n",
    "  source=0,                     # 0 = default webcam\n",
    "  time_threshold=5,             # Time (s) a match must be confirmed\n",
    "  frame_threshold=5,            # Consecutive frames to confirm match\n",
    "  anti_spoofing=True            # Check if face is real\n",
    ")"
   ]
  },
  {
   "cell_type": "code",
   "execution_count": null,
   "metadata": {},
   "outputs": [
    {
     "name": "stderr",
     "output_type": "stream",
     "text": [
      "2025-05-07 04:18:01.619326: I tensorflow/core/util/port.cc:153] oneDNN custom operations are on. You may see slightly different numerical results due to floating-point round-off errors from different computation orders. To turn them off, set the environment variable `TF_ENABLE_ONEDNN_OPTS=0`.\n",
      "2025-05-07 04:18:01.636523: E external/local_xla/xla/stream_executor/cuda/cuda_fft.cc:467] Unable to register cuFFT factory: Attempting to register factory for plugin cuFFT when one has already been registered\n",
      "WARNING: All log messages before absl::InitializeLog() is called are written to STDERR\n",
      "E0000 00:00:1746580681.656508  107198 cuda_dnn.cc:8579] Unable to register cuDNN factory: Attempting to register factory for plugin cuDNN when one has already been registered\n",
      "E0000 00:00:1746580681.662344  107198 cuda_blas.cc:1407] Unable to register cuBLAS factory: Attempting to register factory for plugin cuBLAS when one has already been registered\n",
      "W0000 00:00:1746580681.677417  107198 computation_placer.cc:177] computation placer already registered. Please check linkage and avoid linking the same target more than once.\n",
      "W0000 00:00:1746580681.677447  107198 computation_placer.cc:177] computation placer already registered. Please check linkage and avoid linking the same target more than once.\n",
      "W0000 00:00:1746580681.677449  107198 computation_placer.cc:177] computation placer already registered. Please check linkage and avoid linking the same target more than once.\n",
      "W0000 00:00:1746580681.677451  107198 computation_placer.cc:177] computation placer already registered. Please check linkage and avoid linking the same target more than once.\n",
      "2025-05-07 04:18:01.682834: I tensorflow/core/platform/cpu_feature_guard.cc:210] This TensorFlow binary is optimized to use available CPU instructions in performance-critical operations.\n",
      "To enable the following instructions: AVX2 AVX_VNNI FMA, in other operations, rebuild TensorFlow with the appropriate compiler flags.\n",
      "2025-05-07 04:18:03.880959: E external/local_xla/xla/stream_executor/cuda/cuda_platform.cc:51] failed call to cuInit: INTERNAL: CUDA error: Failed call to cuInit: CUDA_ERROR_NO_DEVICE: no CUDA-capable device is detected\n"
     ]
    },
    {
     "name": "stdout",
     "output_type": "stream",
     "text": [
      "25-05-07 04:18:07 - facenet512_weights.h5 will be downloaded...\n"
     ]
    },
    {
     "name": "stderr",
     "output_type": "stream",
     "text": [
      "Downloading...\n",
      "From: https://github.com/serengil/deepface_models/releases/download/v1.0/facenet512_weights.h5\n",
      "To: /home/doaa/.deepface/weights/facenet512_weights.h5\n",
      "100%|██████████| 95.0M/95.0M [00:27<00:00, 3.40MB/s]\n"
     ]
    },
    {
     "name": "stdout",
     "output_type": "stream",
     "text": [
      "25-05-07 04:18:36 - Facenet512 is built\n",
      "25-05-07 04:18:47 - freezed\n",
      "25-05-07 04:18:48 - freeze released\n",
      "25-05-07 04:18:49 - freezed\n",
      "25-05-07 04:18:50 - freeze released\n",
      "25-05-07 04:18:51 - freezed\n",
      "25-05-07 04:18:52 - freeze released\n",
      "25-05-07 04:18:53 - freezed\n",
      "25-05-07 04:18:54 - freeze released\n",
      "25-05-07 04:18:55 - freezed\n",
      "25-05-07 04:18:57 - freeze released\n",
      "25-05-07 04:18:58 - freezed\n",
      "25-05-07 04:18:59 - freeze released\n",
      "25-05-07 04:19:00 - Hello, /home/doaa/Downloads/Doaa/photo_2024-09-27_23-00-08.jpg\n",
      "25-05-07 04:19:00 - freezed\n",
      "25-05-07 04:19:01 - freeze released\n",
      "25-05-07 04:19:03 - freezed\n",
      "25-05-07 04:19:04 - freeze released\n",
      "25-05-07 04:19:05 - freezed\n",
      "25-05-07 04:19:06 - freeze released\n",
      "25-05-07 04:19:08 - freezed\n",
      "25-05-07 04:19:09 - freeze released\n",
      "25-05-07 04:19:10 - Hello, /home/doaa/Downloads/Doaa/photo_2024-09-08_22-39-11.jpg\n",
      "25-05-07 04:19:11 - freezed\n",
      "25-05-07 04:19:12 - freeze released\n",
      "25-05-07 04:19:13 - freezed\n",
      "25-05-07 04:19:14 - freeze released\n",
      "25-05-07 04:19:15 - Hello, /home/doaa/Downloads/Doaa/photo_2024-09-08_22-39-11.jpg\n",
      "25-05-07 04:19:16 - freezed\n",
      "25-05-07 04:19:17 - freeze released\n",
      "25-05-07 04:19:18 - freezed\n",
      "25-05-07 04:19:19 - freeze released\n",
      "25-05-07 04:19:20 - freezed\n",
      "25-05-07 04:19:21 - freeze released\n",
      "25-05-07 04:19:22 - Hello, /home/doaa/Downloads/Doaa/photo_2024-09-08_22-39-11.jpg\n",
      "25-05-07 04:19:23 - cannot put facial recognition info on the image\n",
      "25-05-07 04:19:23 - freezed\n",
      "25-05-07 04:19:24 - freeze released\n",
      "25-05-07 04:19:25 - Hello, /home/doaa/Downloads/Doaa/photo_2024-09-08_22-39-11.jpg\n",
      "25-05-07 04:19:26 - freezed\n",
      "25-05-07 04:19:27 - freeze released\n",
      "25-05-07 04:19:28 - Hello, /home/doaa/Downloads/Doaa/photo_2024-09-08_22-39-11.jpg\n",
      "25-05-07 04:19:28 - freezed\n",
      "25-05-07 04:19:29 - freeze released\n",
      "25-05-07 04:19:31 - Hello, /home/doaa/Downloads/Doaa/photo_2024-09-08_22-39-11.jpg\n",
      "25-05-07 04:19:32 - freezed\n",
      "25-05-07 04:19:33 - freeze released\n",
      "25-05-07 04:19:34 - Hello, /home/doaa/Downloads/Doaa/photo_2024-09-08_22-39-11.jpg\n",
      "25-05-07 04:19:34 - freezed\n",
      "25-05-07 04:19:35 - freeze released\n",
      "25-05-07 04:19:37 - freezed\n",
      "25-05-07 04:19:38 - freeze released\n",
      "25-05-07 04:19:39 - Hello, /home/doaa/Downloads/Doaa/photo_2024-09-27_23-00-08.jpg\n",
      "25-05-07 04:19:39 - freezed\n",
      "25-05-07 04:19:40 - freeze released\n",
      "25-05-07 04:19:44 - freezed\n",
      "25-05-07 04:19:45 - freeze released\n",
      "25-05-07 04:19:46 - Hello, /home/doaa/Downloads/Doaa/photo_2024-09-08_22-39-11.jpg\n",
      "25-05-07 04:19:46 - freezed\n",
      "25-05-07 04:19:48 - freeze released\n",
      "25-05-07 04:19:49 - Hello, /home/doaa/Downloads/Doaa/photo_2024-09-08_22-39-11.jpg\n",
      "25-05-07 04:19:50 - freezed\n",
      "25-05-07 04:19:51 - freeze released\n",
      "25-05-07 04:19:52 - Hello, /home/doaa/Downloads/Doaa/photo_2024-09-08_22-39-11.jpg\n",
      "25-05-07 04:19:52 - freezed\n",
      "25-05-07 04:19:53 - freeze released\n",
      "25-05-07 04:19:55 - Hello, /home/doaa/Downloads/Doaa/photo_2024-09-08_22-39-11.jpg\n",
      "25-05-07 04:19:55 - freezed\n",
      "25-05-07 04:19:56 - freeze released\n",
      "25-05-07 04:19:57 - freezed\n",
      "25-05-07 04:19:58 - freeze released\n",
      "25-05-07 04:19:59 - freezed\n",
      "25-05-07 04:20:01 - freeze released\n",
      "25-05-07 04:20:02 - freezed\n",
      "25-05-07 04:20:03 - freeze released\n",
      "25-05-07 04:20:04 - freezed\n",
      "25-05-07 04:20:05 - freeze released\n",
      "25-05-07 04:20:06 - freezed\n",
      "25-05-07 04:20:07 - freeze released\n",
      "25-05-07 04:20:09 - freezed\n",
      "25-05-07 04:20:10 - freeze released\n",
      "25-05-07 04:20:11 - freezed\n"
     ]
    },
    {
     "ename": "KeyboardInterrupt",
     "evalue": "",
     "output_type": "error",
     "traceback": [
      "\u001b[0;31m---------------------------------------------------------------------------\u001b[0m",
      "\u001b[0;31mKeyboardInterrupt\u001b[0m                         Traceback (most recent call last)",
      "Cell \u001b[0;32mIn[1], line 3\u001b[0m\n\u001b[1;32m      1\u001b[0m \u001b[38;5;28;01mfrom\u001b[39;00m\u001b[38;5;250m \u001b[39m\u001b[38;5;21;01mdeepface\u001b[39;00m\u001b[38;5;250m \u001b[39m\u001b[38;5;28;01mimport\u001b[39;00m DeepFace\n\u001b[0;32m----> 3\u001b[0m \u001b[43mDeepFace\u001b[49m\u001b[38;5;241;43m.\u001b[39;49m\u001b[43mstream\u001b[49m\u001b[43m(\u001b[49m\n\u001b[1;32m      4\u001b[0m \u001b[43m  \u001b[49m\u001b[43mdb_path\u001b[49m\u001b[38;5;241;43m=\u001b[39;49m\u001b[38;5;124;43m\"\u001b[39;49m\u001b[38;5;124;43m/home/doaa/Downloads/Doaa\u001b[39;49m\u001b[38;5;124;43m\"\u001b[39;49m\u001b[43m,\u001b[49m\n\u001b[1;32m      5\u001b[0m \u001b[43m  \u001b[49m\u001b[43mmodel_name\u001b[49m\u001b[38;5;241;43m=\u001b[39;49m\u001b[38;5;124;43m\"\u001b[39;49m\u001b[38;5;124;43mFacenet512\u001b[39;49m\u001b[38;5;124;43m\"\u001b[39;49m\u001b[43m,\u001b[49m\n\u001b[1;32m      6\u001b[0m \u001b[43m  \u001b[49m\u001b[43mdetector_backend\u001b[49m\u001b[38;5;241;43m=\u001b[39;49m\u001b[38;5;124;43m\"\u001b[39;49m\u001b[38;5;124;43mopencv\u001b[39;49m\u001b[38;5;124;43m\"\u001b[39;49m\u001b[43m,\u001b[49m\n\u001b[1;32m      7\u001b[0m \u001b[43m  \u001b[49m\u001b[43mdistance_metric\u001b[49m\u001b[38;5;241;43m=\u001b[39;49m\u001b[38;5;124;43m\"\u001b[39;49m\u001b[38;5;124;43mcosine\u001b[39;49m\u001b[38;5;124;43m\"\u001b[39;49m\u001b[43m,\u001b[49m\n\u001b[1;32m      8\u001b[0m \u001b[43m  \u001b[49m\u001b[43menable_face_analysis\u001b[49m\u001b[38;5;241;43m=\u001b[39;49m\u001b[38;5;28;43;01mFalse\u001b[39;49;00m\u001b[43m,\u001b[49m\n\u001b[1;32m      9\u001b[0m \u001b[43m  \u001b[49m\u001b[43msource\u001b[49m\u001b[38;5;241;43m=\u001b[39;49m\u001b[38;5;241;43m0\u001b[39;49m\u001b[43m,\u001b[49m\n\u001b[1;32m     10\u001b[0m \u001b[43m  \u001b[49m\u001b[43mtime_threshold\u001b[49m\u001b[38;5;241;43m=\u001b[39;49m\u001b[38;5;241;43m0.1\u001b[39;49m\u001b[43m,\u001b[49m\n\u001b[1;32m     11\u001b[0m \u001b[43m  \u001b[49m\u001b[43mframe_threshold\u001b[49m\u001b[38;5;241;43m=\u001b[39;49m\u001b[38;5;241;43m1\u001b[39;49m\u001b[43m,\u001b[49m\n\u001b[1;32m     12\u001b[0m \u001b[43m  \u001b[49m\u001b[43manti_spoofing\u001b[49m\u001b[38;5;241;43m=\u001b[39;49m\u001b[38;5;28;43;01mTrue\u001b[39;49;00m\n\u001b[1;32m     13\u001b[0m \u001b[43m)\u001b[49m\n",
      "File \u001b[0;32m~/miniconda3/envs/onnxenv/lib/python3.10/site-packages/deepface/DeepFace.py:476\u001b[0m, in \u001b[0;36mstream\u001b[0;34m(db_path, model_name, detector_backend, distance_metric, enable_face_analysis, source, time_threshold, frame_threshold, anti_spoofing)\u001b[0m\n\u001b[1;32m    473\u001b[0m time_threshold \u001b[38;5;241m=\u001b[39m \u001b[38;5;28mmax\u001b[39m(time_threshold, \u001b[38;5;241m1\u001b[39m)\n\u001b[1;32m    474\u001b[0m frame_threshold \u001b[38;5;241m=\u001b[39m \u001b[38;5;28mmax\u001b[39m(frame_threshold, \u001b[38;5;241m1\u001b[39m)\n\u001b[0;32m--> 476\u001b[0m \u001b[43mstreaming\u001b[49m\u001b[38;5;241;43m.\u001b[39;49m\u001b[43manalysis\u001b[49m\u001b[43m(\u001b[49m\n\u001b[1;32m    477\u001b[0m \u001b[43m    \u001b[49m\u001b[43mdb_path\u001b[49m\u001b[38;5;241;43m=\u001b[39;49m\u001b[43mdb_path\u001b[49m\u001b[43m,\u001b[49m\n\u001b[1;32m    478\u001b[0m \u001b[43m    \u001b[49m\u001b[43mmodel_name\u001b[49m\u001b[38;5;241;43m=\u001b[39;49m\u001b[43mmodel_name\u001b[49m\u001b[43m,\u001b[49m\n\u001b[1;32m    479\u001b[0m \u001b[43m    \u001b[49m\u001b[43mdetector_backend\u001b[49m\u001b[38;5;241;43m=\u001b[39;49m\u001b[43mdetector_backend\u001b[49m\u001b[43m,\u001b[49m\n\u001b[1;32m    480\u001b[0m \u001b[43m    \u001b[49m\u001b[43mdistance_metric\u001b[49m\u001b[38;5;241;43m=\u001b[39;49m\u001b[43mdistance_metric\u001b[49m\u001b[43m,\u001b[49m\n\u001b[1;32m    481\u001b[0m \u001b[43m    \u001b[49m\u001b[43menable_face_analysis\u001b[49m\u001b[38;5;241;43m=\u001b[39;49m\u001b[43menable_face_analysis\u001b[49m\u001b[43m,\u001b[49m\n\u001b[1;32m    482\u001b[0m \u001b[43m    \u001b[49m\u001b[43msource\u001b[49m\u001b[38;5;241;43m=\u001b[39;49m\u001b[43msource\u001b[49m\u001b[43m,\u001b[49m\n\u001b[1;32m    483\u001b[0m \u001b[43m    \u001b[49m\u001b[43mtime_threshold\u001b[49m\u001b[38;5;241;43m=\u001b[39;49m\u001b[43mtime_threshold\u001b[49m\u001b[43m,\u001b[49m\n\u001b[1;32m    484\u001b[0m \u001b[43m    \u001b[49m\u001b[43mframe_threshold\u001b[49m\u001b[38;5;241;43m=\u001b[39;49m\u001b[43mframe_threshold\u001b[49m\u001b[43m,\u001b[49m\n\u001b[1;32m    485\u001b[0m \u001b[43m    \u001b[49m\u001b[43manti_spoofing\u001b[49m\u001b[38;5;241;43m=\u001b[39;49m\u001b[43manti_spoofing\u001b[49m\u001b[43m,\u001b[49m\n\u001b[1;32m    486\u001b[0m \u001b[43m\u001b[49m\u001b[43m)\u001b[49m\n",
      "File \u001b[0;32m~/miniconda3/envs/onnxenv/lib/python3.10/site-packages/deepface/modules/streaming.py:86\u001b[0m, in \u001b[0;36manalysis\u001b[0;34m(db_path, model_name, detector_backend, distance_metric, enable_face_analysis, source, time_threshold, frame_threshold, anti_spoofing)\u001b[0m\n\u001b[1;32m     84\u001b[0m cap \u001b[38;5;241m=\u001b[39m cv2\u001b[38;5;241m.\u001b[39mVideoCapture(source)  \u001b[38;5;66;03m# webcam\u001b[39;00m\n\u001b[1;32m     85\u001b[0m \u001b[38;5;28;01mwhile\u001b[39;00m \u001b[38;5;28;01mTrue\u001b[39;00m:\n\u001b[0;32m---> 86\u001b[0m     has_frame, img \u001b[38;5;241m=\u001b[39m \u001b[43mcap\u001b[49m\u001b[38;5;241;43m.\u001b[39;49m\u001b[43mread\u001b[49m\u001b[43m(\u001b[49m\u001b[43m)\u001b[49m\n\u001b[1;32m     87\u001b[0m     \u001b[38;5;28;01mif\u001b[39;00m \u001b[38;5;129;01mnot\u001b[39;00m has_frame:\n\u001b[1;32m     88\u001b[0m         \u001b[38;5;28;01mbreak\u001b[39;00m\n",
      "\u001b[0;31mKeyboardInterrupt\u001b[0m: "
     ]
    },
    {
     "ename": "",
     "evalue": "",
     "output_type": "error",
     "traceback": [
      "\u001b[1;31mThe Kernel crashed while executing code in the current cell or a previous cell. \n",
      "\u001b[1;31mPlease review the code in the cell(s) to identify a possible cause of the failure. \n",
      "\u001b[1;31mClick <a href='https://aka.ms/vscodeJupyterKernelCrash'>here</a> for more info. \n",
      "\u001b[1;31mView Jupyter <a href='command:jupyter.viewOutput'>log</a> for further details."
     ]
    }
   ],
   "source": [
    "from deepface import DeepFace\n",
    "\n",
    "DeepFace.stream(\n",
    "  db_path=\"/home/doaa/Downloads/Doaa\",\n",
    "  model_name=\"Facenet512\",\n",
    "  detector_backend=\"opencv\",\n",
    "  distance_metric=\"cosine\",\n",
    "  enable_face_analysis=False,\n",
    "  source=0,\n",
    "  time_threshold=0.1,\n",
    "  frame_threshold=1,\n",
    "  anti_spoofing=True\n",
    ")\n"
   ]
  },
  {
   "cell_type": "code",
   "execution_count": null,
   "metadata": {},
   "outputs": [],
   "source": []
  }
 ],
 "metadata": {
  "kernelspec": {
   "display_name": "onnxenv",
   "language": "python",
   "name": "python3"
  },
  "language_info": {
   "codemirror_mode": {
    "name": "ipython",
    "version": 3
   },
   "file_extension": ".py",
   "mimetype": "text/x-python",
   "name": "python",
   "nbconvert_exporter": "python",
   "pygments_lexer": "ipython3",
   "version": "3.10.16"
  }
 },
 "nbformat": 4,
 "nbformat_minor": 2
}
